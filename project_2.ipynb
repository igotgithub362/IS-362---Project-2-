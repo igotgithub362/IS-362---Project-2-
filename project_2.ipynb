{
 "cells": [
  {
   "cell_type": "markdown",
   "id": "0d55458e",
   "metadata": {},
   "source": [
    "# DETERMINING THE HIGHEST AND LOWEST HOUSE PRICES "
   ]
  },
  {
   "cell_type": "markdown",
   "id": "5de26bc5",
   "metadata": {},
   "source": [
    "## Data loading"
   ]
  },
  {
   "cell_type": "markdown",
   "id": "b032a906",
   "metadata": {},
   "source": [
    "Load pandas library used to load the house prices dataset"
   ]
  },
  {
   "cell_type": "code",
   "execution_count": 2,
   "id": "33c38480",
   "metadata": {},
   "outputs": [],
   "source": [
    "import pandas as pd "
   ]
  },
  {
   "cell_type": "markdown",
   "id": "5e91730e",
   "metadata": {},
   "source": [
    "Load the dataset using pandas library and view the data types of the variables contained in the dataset"
   ]
  },
  {
   "cell_type": "code",
   "execution_count": 3,
   "id": "6f4a6dd0",
   "metadata": {},
   "outputs": [],
   "source": [
    "data = pd.read_csv(\"house_prices.csv\")"
   ]
  },
  {
   "cell_type": "code",
   "execution_count": 4,
   "id": "a259f66d",
   "metadata": {},
   "outputs": [
    {
     "name": "stdout",
     "output_type": "stream",
     "text": [
      "<class 'pandas.core.frame.DataFrame'>\n",
      "RangeIndex: 261 entries, 0 to 260\n",
      "Data columns (total 9 columns):\n",
      " #   Column           Non-Null Count  Dtype  \n",
      "---  ------           --------------  -----  \n",
      " 0   Date             261 non-null    object \n",
      " 1   Price (All)      261 non-null    int64  \n",
      " 2   Change (All)     261 non-null    float64\n",
      " 3   Price (New)      261 non-null    int64  \n",
      " 4   Change (New)     261 non-null    float64\n",
      " 5   Price (Modern)   261 non-null    int64  \n",
      " 6   Change (Modern)  261 non-null    float64\n",
      " 7   Price (Older)    261 non-null    int64  \n",
      " 8   Change (Older)   261 non-null    float64\n",
      "dtypes: float64(4), int64(4), object(1)\n",
      "memory usage: 18.5+ KB\n"
     ]
    }
   ],
   "source": [
    "data.info()"
   ]
  },
  {
   "cell_type": "markdown",
   "id": "cbd9bccf",
   "metadata": {},
   "source": [
    "Head of the dataset displaying values from different variables in the dataset"
   ]
  },
  {
   "cell_type": "code",
   "execution_count": 5,
   "id": "495d975e",
   "metadata": {},
   "outputs": [
    {
     "data": {
      "text/html": [
       "<div>\n",
       "<style scoped>\n",
       "    .dataframe tbody tr th:only-of-type {\n",
       "        vertical-align: middle;\n",
       "    }\n",
       "\n",
       "    .dataframe tbody tr th {\n",
       "        vertical-align: top;\n",
       "    }\n",
       "\n",
       "    .dataframe thead th {\n",
       "        text-align: right;\n",
       "    }\n",
       "</style>\n",
       "<table border=\"1\" class=\"dataframe\">\n",
       "  <thead>\n",
       "    <tr style=\"text-align: right;\">\n",
       "      <th></th>\n",
       "      <th>Date</th>\n",
       "      <th>Price (All)</th>\n",
       "      <th>Change (All)</th>\n",
       "      <th>Price (New)</th>\n",
       "      <th>Change (New)</th>\n",
       "      <th>Price (Modern)</th>\n",
       "      <th>Change (Modern)</th>\n",
       "      <th>Price (Older)</th>\n",
       "      <th>Change (Older)</th>\n",
       "    </tr>\n",
       "  </thead>\n",
       "  <tbody>\n",
       "    <tr>\n",
       "      <th>0</th>\n",
       "      <td>1952-11-01</td>\n",
       "      <td>1891</td>\n",
       "      <td>0.0</td>\n",
       "      <td>2107</td>\n",
       "      <td>0.0</td>\n",
       "      <td>2020</td>\n",
       "      <td>0.0</td>\n",
       "      <td>1524</td>\n",
       "      <td>0.0</td>\n",
       "    </tr>\n",
       "    <tr>\n",
       "      <th>1</th>\n",
       "      <td>1953-02-01</td>\n",
       "      <td>1891</td>\n",
       "      <td>0.0</td>\n",
       "      <td>2107</td>\n",
       "      <td>0.0</td>\n",
       "      <td>2002</td>\n",
       "      <td>0.0</td>\n",
       "      <td>1542</td>\n",
       "      <td>0.0</td>\n",
       "    </tr>\n",
       "    <tr>\n",
       "      <th>2</th>\n",
       "      <td>1953-05-01</td>\n",
       "      <td>1891</td>\n",
       "      <td>0.0</td>\n",
       "      <td>2107</td>\n",
       "      <td>0.0</td>\n",
       "      <td>2002</td>\n",
       "      <td>0.0</td>\n",
       "      <td>1542</td>\n",
       "      <td>0.0</td>\n",
       "    </tr>\n",
       "    <tr>\n",
       "      <th>3</th>\n",
       "      <td>1953-08-01</td>\n",
       "      <td>1881</td>\n",
       "      <td>0.0</td>\n",
       "      <td>2117</td>\n",
       "      <td>0.0</td>\n",
       "      <td>2002</td>\n",
       "      <td>0.0</td>\n",
       "      <td>1524</td>\n",
       "      <td>0.0</td>\n",
       "    </tr>\n",
       "    <tr>\n",
       "      <th>4</th>\n",
       "      <td>1953-11-01</td>\n",
       "      <td>1872</td>\n",
       "      <td>-1.0</td>\n",
       "      <td>2117</td>\n",
       "      <td>0.5</td>\n",
       "      <td>1975</td>\n",
       "      <td>-2.2</td>\n",
       "      <td>1542</td>\n",
       "      <td>1.2</td>\n",
       "    </tr>\n",
       "  </tbody>\n",
       "</table>\n",
       "</div>"
      ],
      "text/plain": [
       "         Date  Price (All)  Change (All)  Price (New)  ...  Price (Modern)  Change (Modern)  Price (Older)  Change (Older)\n",
       "0  1952-11-01         1891           0.0         2107  ...            2020              0.0           1524             0.0\n",
       "1  1953-02-01         1891           0.0         2107  ...            2002              0.0           1542             0.0\n",
       "2  1953-05-01         1891           0.0         2107  ...            2002              0.0           1542             0.0\n",
       "3  1953-08-01         1881           0.0         2117  ...            2002              0.0           1524             0.0\n",
       "4  1953-11-01         1872          -1.0         2117  ...            1975             -2.2           1542             1.2\n",
       "\n",
       "[5 rows x 9 columns]"
      ]
     },
     "execution_count": 5,
     "metadata": {},
     "output_type": "execute_result"
    }
   ],
   "source": [
    "data.head()"
   ]
  },
  {
   "cell_type": "markdown",
   "id": "297d9d25",
   "metadata": {},
   "source": [
    "## Data cleaning"
   ]
  },
  {
   "cell_type": "markdown",
   "id": "b3b307f2",
   "metadata": {},
   "source": [
    "Dropping all the values which are null from the dataset. Cleaning the data through dropping the null values increases the accuracy of the outcome of the analysis part."
   ]
  },
  {
   "cell_type": "code",
   "execution_count": 6,
   "id": "d9696771",
   "metadata": {},
   "outputs": [],
   "source": [
    "data = data.dropna()"
   ]
  },
  {
   "cell_type": "markdown",
   "id": "5ec30c22",
   "metadata": {},
   "source": [
    "Dropping columns which are not usable for further analysis on the paper is crucial toward reducing the occurance of a mix-up during the analysis phase."
   ]
  },
  {
   "cell_type": "code",
   "execution_count": 7,
   "id": "8d1e4760",
   "metadata": {},
   "outputs": [],
   "source": [
    "data = data.drop(columns=['Date','Change (All)','Change (New)','Price (Older)','Change (Modern)','Change (Older)'])"
   ]
  },
  {
   "cell_type": "markdown",
   "id": "43d1f327",
   "metadata": {},
   "source": [
    "## Data transformation"
   ]
  },
  {
   "cell_type": "markdown",
   "id": "7fe637a4",
   "metadata": {},
   "source": [
    "The transformation is undertaken through arranging the data in a descending order based on the Price (Modern) column.  "
   ]
  },
  {
   "cell_type": "code",
   "execution_count": 17,
   "id": "c7893444",
   "metadata": {},
   "outputs": [],
   "source": [
    "data = data.sort_values(ascending=False, by=[\"Price (Modern)\"])"
   ]
  },
  {
   "cell_type": "code",
   "execution_count": 18,
   "id": "b6fbeb22",
   "metadata": {},
   "outputs": [
    {
     "data": {
      "text/html": [
       "<div>\n",
       "<style scoped>\n",
       "    .dataframe tbody tr th:only-of-type {\n",
       "        vertical-align: middle;\n",
       "    }\n",
       "\n",
       "    .dataframe tbody tr th {\n",
       "        vertical-align: top;\n",
       "    }\n",
       "\n",
       "    .dataframe thead th {\n",
       "        text-align: right;\n",
       "    }\n",
       "</style>\n",
       "<table border=\"1\" class=\"dataframe\">\n",
       "  <thead>\n",
       "    <tr style=\"text-align: right;\">\n",
       "      <th></th>\n",
       "      <th>Price (All)</th>\n",
       "      <th>Price (New)</th>\n",
       "      <th>Price (Modern)</th>\n",
       "    </tr>\n",
       "  </thead>\n",
       "  <tbody>\n",
       "    <tr>\n",
       "      <th>250</th>\n",
       "      <td>194258</td>\n",
       "      <td>194511</td>\n",
       "      <td>179358</td>\n",
       "    </tr>\n",
       "    <tr>\n",
       "      <th>248</th>\n",
       "      <td>189002</td>\n",
       "      <td>196136</td>\n",
       "      <td>174683</td>\n",
       "    </tr>\n",
       "    <tr>\n",
       "      <th>249</th>\n",
       "      <td>188566</td>\n",
       "      <td>192434</td>\n",
       "      <td>174053</td>\n",
       "    </tr>\n",
       "    <tr>\n",
       "      <th>247</th>\n",
       "      <td>188810</td>\n",
       "      <td>193409</td>\n",
       "      <td>173918</td>\n",
       "    </tr>\n",
       "    <tr>\n",
       "      <th>219</th>\n",
       "      <td>184131</td>\n",
       "      <td>190476</td>\n",
       "      <td>172398</td>\n",
       "    </tr>\n",
       "    <tr>\n",
       "      <th>217</th>\n",
       "      <td>175554</td>\n",
       "      <td>184424</td>\n",
       "      <td>172247</td>\n",
       "    </tr>\n",
       "    <tr>\n",
       "      <th>220</th>\n",
       "      <td>183959</td>\n",
       "      <td>192268</td>\n",
       "      <td>171753</td>\n",
       "    </tr>\n",
       "    <tr>\n",
       "      <th>246</th>\n",
       "      <td>186544</td>\n",
       "      <td>190051</td>\n",
       "      <td>171680</td>\n",
       "    </tr>\n",
       "    <tr>\n",
       "      <th>218</th>\n",
       "      <td>181810</td>\n",
       "      <td>190214</td>\n",
       "      <td>169967</td>\n",
       "    </tr>\n",
       "    <tr>\n",
       "      <th>216</th>\n",
       "      <td>172065</td>\n",
       "      <td>180964</td>\n",
       "      <td>169066</td>\n",
       "    </tr>\n",
       "  </tbody>\n",
       "</table>\n",
       "</div>"
      ],
      "text/plain": [
       "     Price (All)  Price (New)  Price (Modern)\n",
       "250       194258       194511          179358\n",
       "248       189002       196136          174683\n",
       "249       188566       192434          174053\n",
       "247       188810       193409          173918\n",
       "219       184131       190476          172398\n",
       "217       175554       184424          172247\n",
       "220       183959       192268          171753\n",
       "246       186544       190051          171680\n",
       "218       181810       190214          169967\n",
       "216       172065       180964          169066"
      ]
     },
     "execution_count": 18,
     "metadata": {},
     "output_type": "execute_result"
    }
   ],
   "source": [
    "data.head(10)"
   ]
  },
  {
   "cell_type": "markdown",
   "id": "64b5ec04",
   "metadata": {},
   "source": [
    "## Data analysis"
   ]
  },
  {
   "cell_type": "markdown",
   "id": "e8e70480",
   "metadata": {},
   "source": [
    "The data analysis is undertaken through determining the highest and lowest prices of house available in the dataset."
   ]
  },
  {
   "cell_type": "code",
   "execution_count": 11,
   "id": "fcbefd54",
   "metadata": {},
   "outputs": [],
   "source": [
    "a = data['Price (All)']\n"
   ]
  },
  {
   "cell_type": "code",
   "execution_count": 14,
   "id": "b4a797e9",
   "metadata": {},
   "outputs": [
    {
     "name": "stdout",
     "output_type": "stream",
     "text": [
      "Highest house price is: 211672\n"
     ]
    }
   ],
   "source": [
    "print(\"Highest house price is:\",max(a))"
   ]
  },
  {
   "cell_type": "code",
   "execution_count": 15,
   "id": "201540f3",
   "metadata": {},
   "outputs": [
    {
     "name": "stdout",
     "output_type": "stream",
     "text": [
      "Lowest house price is: 1853\n"
     ]
    }
   ],
   "source": [
    "print(\"Lowest house price is:\",min(a))"
   ]
  },
  {
   "cell_type": "markdown",
   "id": "a285ed90",
   "metadata": {},
   "source": [
    "According to the findings above the highest price of a house is $211,672\n"
   ]
  },
  {
   "cell_type": "code",
   "execution_count": null,
   "id": "37bc0b4f",
   "metadata": {},
   "outputs": [],
   "source": [
    "The lowest price for houses based on the dataset is $1,853"
   ]
  }
 ],
 "metadata": {
  "kernelspec": {
   "display_name": "Python 3",
   "language": "python",
   "name": "python3"
  },
  "language_info": {
   "codemirror_mode": {
    "name": "ipython",
    "version": 3
   },
   "file_extension": ".py",
   "mimetype": "text/x-python",
   "name": "python",
   "nbconvert_exporter": "python",
   "pygments_lexer": "ipython3",
   "version": "3.9.4"
  }
 },
 "nbformat": 4,
 "nbformat_minor": 5
}
